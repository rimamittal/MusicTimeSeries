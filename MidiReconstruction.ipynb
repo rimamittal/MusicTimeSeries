{
 "cells": [
  {
   "cell_type": "code",
   "execution_count": 1,
   "metadata": {},
   "outputs": [],
   "source": [
    "import pretty_midi as pm\n",
    "import matplotlib.pyplot as plt\n",
    "import numpy as np\n",
    "import pandas as pd\n",
    "%matplotlib inline"
   ]
  },
  {
   "cell_type": "code",
   "execution_count": 2,
   "metadata": {},
   "outputs": [],
   "source": [
    "#midi_data = pm.PrettyMIDI('Piano Sonata n14 op27 1mov \\'\\'Moonlight\\'\\'.mid')\n",
    "notes = pd.read_csv('ms_notes.csv')"
   ]
  },
  {
   "cell_type": "code",
   "execution_count": 3,
   "metadata": {},
   "outputs": [],
   "source": [
    "import pretty_midi\n",
    "# Create a PrettyMIDI object\n",
    "piano_roll = pretty_midi.PrettyMIDI()\n",
    "# Create an Instrument instance for a piano instrument\n",
    "piano_program = 0\n",
    "piano = pretty_midi.Instrument(program=piano_program)\n",
    "# Iterate over note names, which will be converted to note number later\n",
    "start = 0\n",
    "for note_number in notes['notes']:\n",
    "    # Retrieve the MIDI note number for this note name\n",
    "    #note_number = pretty_midi.note_name_to_number(note_name)\n",
    "    # Create a Note instance for this note, starting at 0s and ending at .5s\n",
    "    \n",
    "    note = pretty_midi.Note(velocity=100, pitch=note_number, start=start, end = start + 0.3)\n",
    "    # Add it to our piano instrument\n",
    "    piano.notes.append(note)\n",
    "    start = start+0.3\n",
    "# Add the piano instrument to the PrettyMIDI object\n",
    "piano_roll.instruments.append(piano)\n",
    "# Write out the MIDI data\n",
    "piano_roll.write('generated.mid')"
   ]
  },
  {
   "cell_type": "code",
   "execution_count": 4,
   "metadata": {},
   "outputs": [],
   "source": [
    "# Make it into a function\n",
    "\n",
    "def reconst_midi_arp(notes, output_name):\n",
    "    import pretty_midi\n",
    "    # Create a PrettyMIDI object\n",
    "    piano_roll = pretty_midi.PrettyMIDI()\n",
    "    # Create an Instrument instance for a piano instrument\n",
    "    piano_program = 0\n",
    "    piano = pretty_midi.Instrument(program=piano_program)\n",
    "    # Iterate over note names, which will be converted to note number later\n",
    "    start = 0\n",
    "    for note_number in notes['x']:\n",
    "        # Retrieve the MIDI note number for this note name\n",
    "        #note_number = pretty_midi.note_name_to_number(note_name)\n",
    "        # Create a Note instance for this note, starting at 0s and ending at .5s\n",
    "\n",
    "        note = pretty_midi.Note(velocity=100, pitch=note_number, start=start, end = start + 0.3)\n",
    "        # Add it to our piano instrument\n",
    "        piano.notes.append(note)\n",
    "        start = start+0.3\n",
    "    # Add the piano instrument to the PrettyMIDI object\n",
    "    piano_roll.instruments.append(piano)\n",
    "    # Write out the MIDI data\n",
    "    piano_roll.write(\"pred_sequences/\"+output_name+'.mid')"
   ]
  },
  {
   "cell_type": "code",
   "execution_count": 5,
   "metadata": {},
   "outputs": [],
   "source": [
    "reconst_midi_arp(pd.read_csv(\"pred_sequences/aarima_pred.csv\"), \"aarima\")"
   ]
  },
  {
   "cell_type": "code",
   "execution_count": 6,
   "metadata": {},
   "outputs": [],
   "source": [
    "reconst_midi_arp(pd.read_csv(\"pred_sequences/garch_pred.csv\"), \"garch\")"
   ]
  },
  {
   "cell_type": "code",
   "execution_count": 7,
   "metadata": {},
   "outputs": [],
   "source": [
    "reconst_midi_arp(pd.read_csv(\"pred_sequences/vars_pred.csv\"), \"vars\")\n",
    "reconst_midi_arp(pd.read_csv(\"pred_sequences/markov_pred.csv\"), \"markov\")"
   ]
  },
  {
   "cell_type": "code",
   "execution_count": null,
   "metadata": {},
   "outputs": [],
   "source": []
  }
 ],
 "metadata": {
  "kernelspec": {
   "display_name": "Python 3",
   "language": "python",
   "name": "python3"
  },
  "language_info": {
   "codemirror_mode": {
    "name": "ipython",
    "version": 3
   },
   "file_extension": ".py",
   "mimetype": "text/x-python",
   "name": "python",
   "nbconvert_exporter": "python",
   "pygments_lexer": "ipython3",
   "version": "3.6.5"
  }
 },
 "nbformat": 4,
 "nbformat_minor": 2
}
